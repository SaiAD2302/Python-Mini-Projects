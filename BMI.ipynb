{
 "cells": [
  {
   "cell_type": "code",
   "execution_count": 6,
   "id": "d33a71d5",
   "metadata": {},
   "outputs": [
    {
     "name": "stdout",
     "output_type": "stream",
     "text": [
      "[]\n"
     ]
    }
   ],
   "source": [
    "BmiData=[]\n",
    "def Bmical():\n",
    "    name=input('enter your name ')\n",
    "    height=float(input('enter your height in cm:'))\n",
    "    weight=float(input('enter your weight in kg:'))\n",
    "    Bmi=weight/(height/100)**2\n",
    "    print(Bmi)\n",
    "    print('hi %s,your BMI is %0.2f'%(name,Bmi))\n",
    "    if Bmi<=18.4:\n",
    "        print('Underweight')\n",
    "    elif Bmi>=18.5 and Bmi<=24.9:\n",
    "        print('Normal')\n",
    "    elif Bmi>=25 and Bmi<=39.9:\n",
    "        print('Overweight')\n",
    "    else:\n",
    "        print('Obese')\n",
    "    BmiData.append([name,round(Bmi,2)])\n",
    "print(BmiData)"
   ]
  },
  {
   "cell_type": "code",
   "execution_count": 7,
   "id": "1796ace0",
   "metadata": {},
   "outputs": [
    {
     "name": "stdout",
     "output_type": "stream",
     "text": [
      "enter your name sai\n",
      "enter your height in cm:180\n",
      "enter your weight in kg:82\n",
      "25.30864197530864\n",
      "hi sai,your BMI is 25.31\n",
      "Overweight\n"
     ]
    }
   ],
   "source": [
    "Bmical()\n"
   ]
  },
  {
   "cell_type": "code",
   "execution_count": 3,
   "id": "b046f260",
   "metadata": {
    "scrolled": true
   },
   "outputs": [
    {
     "name": "stdout",
     "output_type": "stream",
     "text": [
      "enter your name naveen\n",
      "enter your height in cm:180\n",
      "enter your weight in kg:75\n",
      "hi naveen,your BMI is 23.15\n",
      "Normal\n"
     ]
    }
   ],
   "source": [
    "Bmical()"
   ]
  },
  {
   "cell_type": "code",
   "execution_count": 4,
   "id": "eda557f8",
   "metadata": {},
   "outputs": [
    {
     "data": {
      "text/plain": [
       "[['sai', 25.31], ['naveen', 23.15]]"
      ]
     },
     "execution_count": 4,
     "metadata": {},
     "output_type": "execute_result"
    }
   ],
   "source": [
    "BmiData"
   ]
  },
  {
   "cell_type": "code",
   "execution_count": 6,
   "id": "3fae370d",
   "metadata": {},
   "outputs": [
    {
     "name": "stdout",
     "output_type": "stream",
     "text": [
      "enter your namesambbu\n",
      "enter your height in cm:170\n",
      "enter your weight in kg:73\n",
      "hi sambbu,your BMI is 25.26\n",
      "Overweight\n"
     ]
    }
   ],
   "source": [
    "Bmical()"
   ]
  },
  {
   "cell_type": "code",
   "execution_count": 7,
   "id": "aea3300c",
   "metadata": {},
   "outputs": [
    {
     "data": {
      "text/plain": [
       "[['sai', 25.03], ['labin', 22.34], ['sambbu', 25.26]]"
      ]
     },
     "execution_count": 7,
     "metadata": {},
     "output_type": "execute_result"
    }
   ],
   "source": [
    "BmiData"
   ]
  },
  {
   "cell_type": "code",
   "execution_count": 8,
   "id": "a8cf51ed",
   "metadata": {},
   "outputs": [
    {
     "name": "stdout",
     "output_type": "stream",
     "text": [
      "enter your namearun\n",
      "enter your height in cm:175\n",
      "enter your weight in kg:75\n",
      "hi arun,your BMI is 24.49\n",
      "Normal\n"
     ]
    }
   ],
   "source": [
    "Bmical()"
   ]
  },
  {
   "cell_type": "code",
   "execution_count": 9,
   "id": "7231cb25",
   "metadata": {},
   "outputs": [
    {
     "data": {
      "text/plain": [
       "[['sai', 25.03], ['labin', 22.34], ['sambbu', 25.26], ['arun', 24.49]]"
      ]
     },
     "execution_count": 9,
     "metadata": {},
     "output_type": "execute_result"
    }
   ],
   "source": [
    "BmiData"
   ]
  },
  {
   "cell_type": "code",
   "execution_count": 5,
   "id": "2f52705d",
   "metadata": {},
   "outputs": [
    {
     "name": "stdout",
     "output_type": "stream",
     "text": [
      "{'sai': 25.31, 'naveen': 23.15}\n"
     ]
    }
   ],
   "source": [
    "print(dict(BmiData))"
   ]
  },
  {
   "cell_type": "code",
   "execution_count": null,
   "id": "b514ba69",
   "metadata": {},
   "outputs": [],
   "source": []
  }
 ],
 "metadata": {
  "kernelspec": {
   "display_name": "Python 3 (ipykernel)",
   "language": "python",
   "name": "python3"
  },
  "language_info": {
   "codemirror_mode": {
    "name": "ipython",
    "version": 3
   },
   "file_extension": ".py",
   "mimetype": "text/x-python",
   "name": "python",
   "nbconvert_exporter": "python",
   "pygments_lexer": "ipython3",
   "version": "3.9.7"
  }
 },
 "nbformat": 4,
 "nbformat_minor": 5
}
